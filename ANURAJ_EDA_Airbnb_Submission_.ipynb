{
  "nbformat": 4,
  "nbformat_minor": 0,
  "metadata": {
    "colab": {
      "private_outputs": true,
      "provenance": [],
      "collapsed_sections": [
        "w6K7xa23Elo4",
        "PH-0ReGfmX4f",
        "O_i_v8NEhb9l",
        "HhfV-JJviCcP",
        "Y3lxredqlCYt",
        "3RnN4peoiCZX",
        "x71ZqKXriCWQ",
        "7hBIi_osiCS2",
        "JlHwYmJAmNHm",
        "35m5QtbWiB9F",
        "PoPl-ycgm1ru",
        "H0kj-8xxnORC",
        "nA9Y7ga8ng1Z",
        "PBTbrJXOngz2",
        "u3PMJOP6ngxN",
        "dauF4eBmngu3",
        "bKJF3rekwFvQ",
        "MSa1f5Uengrz",
        "GF8Ens_Soomf",
        "0wOQAZs5pc--",
        "K5QZ13OEpz2H",
        "lQ7QKXXCp7Bj",
        "448CDAPjqfQr",
        "KSlN3yHqYklG",
        "t6dVpIINYklI",
        "ijmpgYnKYklI",
        "-JiQyfWJYklI",
        "EM7whBJCYoAo",
        "fge-S5ZAYoAp",
        "85gYPyotYoAp",
        "RoGjAbkUYoAp",
        "4Of9eVA-YrdM",
        "iky9q4vBYrdO",
        "F6T5p64dYrdO",
        "y-Ehk30pYrdP",
        "bamQiAODYuh1",
        "QHF8YVU7Yuh3",
        "GwzvFGzlYuh3",
        "qYpmQ266Yuh3",
        "OH-pJp9IphqM",
        "bbFf2-_FphqN",
        "_ouA3fa0phqN",
        "Seke61FWphqN",
        "PIIx-8_IphqN",
        "t27r6nlMphqO",
        "r2jJGEOYphqO",
        "b0JNsNcRphqO",
        "BZR9WyysphqO",
        "jj7wYXLtphqO",
        "eZrbJ2SmphqO",
        "rFu4xreNphqO",
        "YJ55k-q6phqO",
        "gCFgpxoyphqP",
        "OVtJsKN_phqQ",
        "lssrdh5qphqQ",
        "U2RJ9gkRphqQ",
        "1M8mcRywphqQ",
        "tgIPom80phqQ",
        "JMzcOPDDphqR",
        "x-EpHcCOp1ci",
        "X_VqEhTip1ck",
        "8zGJKyg5p1ck",
        "PVzmfK_Ep1ck",
        "n3dbpmDWp1ck",
        "ylSl6qgtp1ck",
        "ZWILFDl5p1ck",
        "M7G43BXep1ck",
        "Ag9LCva-p1cl",
        "E6MkPsBcp1cl",
        "2cELzS2fp1cl",
        "3MPXvC8up1cl",
        "NC_X3p0fY2L0",
        "UV0SzAkaZNRQ",
        "YPEH6qLeZNRQ",
        "q29F0dvdveiT",
        "EXh0U9oCveiU",
        "22aHeOlLveiV",
        "JcMwzZxoAimU",
        "8G2x9gOozGDZ"
      ],
      "include_colab_link": true
    },
    "kernelspec": {
      "name": "python3",
      "display_name": "Python 3"
    },
    "language_info": {
      "name": "python"
    }
  },
  "cells": [
    {
      "cell_type": "markdown",
      "metadata": {
        "id": "view-in-github",
        "colab_type": "text"
      },
      "source": [
        "<a href=\"https://colab.research.google.com/github/anuraj0012/project/blob/module/ANURAJ_EDA_Airbnb_Submission_.ipynb\" target=\"_parent\"><img src=\"https://colab.research.google.com/assets/colab-badge.svg\" alt=\"Open In Colab\"/></a>"
      ]
    },
    {
      "cell_type": "markdown",
      "source": [
        "# **Project Name**    -\n",
        "\n"
      ],
      "metadata": {
        "id": "vncDsAP0Gaoa"
      }
    },
    {
      "cell_type": "markdown",
      "source": [
        "##### **Project Type**    - EDA/Regression/Classification/Unsupervised\n",
        "##### **Contribution**    - Individual"
      ],
      "metadata": {
        "id": "beRrZCGUAJYm"
      }
    },
    {
      "cell_type": "markdown",
      "source": [
        "# **Project Summary -**"
      ],
      "metadata": {
        "id": "FJNUwmbgGyua"
      }
    },
    {
      "cell_type": "markdown",
      "source": [
        "### This project centers on analyzing a substantial dataset from Airbnb, consisting of approximately 49,000 observations. The primary objective is to extract meaningful insights that will aid management and stakeholders in making informed decisions to foster business growth and enhance user satisfaction. By identifying patterns in the data, we aim to offer actionable recommendations for expanding and improving the business.\n",
        "\n",
        "### **Data Analysis Objectives:**\n",
        "\n",
        "1. **Identify Guest Preferences:** We will analyze data on room types, pricing, and neighborhood preferences to understand what guests favor. This includes examining:\n",
        "   - **Room Type Preferences:** What types of rooms (e.g., entire home, private room) are most popular.\n",
        "   - **Price Sensitivity:** Preferred price ranges among different guest segments.\n",
        "   - **Neighborhood Preferences:** Which neighborhoods are most attractive to guests.\n",
        "\n",
        "2. **Improve Host Listings:** Insights gained will help hosts adjust their offerings to better meet guest needs. This includes:\n",
        "   - **Pricing Strategies:** Suggestions on pricing adjustments based on guest preferences and market trends.\n",
        "   - **Room Type Adjustments:** Recommendations on optimizing room types and amenities.\n",
        "\n",
        "3. **Create a Filter System for Guests:** Develop a user-friendly filtering system that allows guests to easily find listings that fit their budget and preferences. This system will enhance the booking experience by matching guests with the most relevant listings.\n",
        "\n",
        "**Data and Tools:**\n",
        "\n",
        "- **Data Components:** The dataset includes key variables such as listing counts, neighborhood distribution, pricing, reviews, and room type preferences.\n",
        "- **Data Wrangling:** We will use **pandas** for data cleaning and organization. This involves:\n",
        "  - Handling missing or inconsistent data.\n",
        "  - Structuring the dataset to facilitate analysis.\n",
        "\n",
        "- **Numerical Analysis:** **Numpy** will be employed for numerical computations and creating arrays necessary for ranking and analysis. Key tasks include:\n",
        "  - Calculating summary statistics.\n",
        "  - Performing rankings and comparisons.\n",
        "\n",
        "- **Data Visualization:** To present findings effectively, we will use **Matplotlib** and **Seaborn**. These tools will help in:\n",
        "  - Creating visual representations of data trends and patterns.\n",
        "  - Generating charts and graphs that illustrate key insights.\n",
        "\n",
        "**Expected Insights and Recommendations:**\n",
        "\n",
        "1. **Guest Preferences:** By analyzing guest preferences, we will identify:\n",
        "   - The most sought-after room types and price ranges.\n",
        "   - The most popular neighborhoods, guiding future investments and adjustments.\n",
        "\n",
        "2. **Host Improvement:** Recommendations will be provided to hosts on:\n",
        "   - Enhancing their listings based on successful patterns observed.\n",
        "   - Adapting pricing and room offerings to attract more guests.\n",
        "\n",
        "3. **Enhanced User Experience:** The filter system will:\n",
        "   - Allow guests to quickly find listings that meet their specific needs.\n",
        "   - Improve satisfaction by aligning available options with guest preferences.\n",
        "\n",
        "**Learning Outcomes:**\n",
        "\n",
        "- **Business Model Understanding:** Gain insight into how Airbnb operates and how data-driven decisions can impact the business.\n",
        "- **Technical Skills Development:** Enhance skills in data wrangling, numerical analysis, and data visualization using tools like pandas, numpy, Matplotlib, and Seaborn.\n",
        "- **Problem-Solving:** Develop the ability to identify and address business challenges through data analysis. Improve critical thinking skills by applying complex concepts to real-world data.\n",
        "\n",
        "This project will not only deepen my knowledge of the Airbnb business model but also improve my ability to analyze and interpret data in practical scenarios. By translating data insights into actionable strategies, I will contribute to both guest satisfaction and host success, ultimately driving business growth.\n",
        "\n"
      ],
      "metadata": {
        "id": "F6v_1wHtG2nS"
      }
    },
    {
      "cell_type": "markdown",
      "source": [
        "# **GitHub Link -**"
      ],
      "metadata": {
        "id": "w6K7xa23Elo4"
      }
    },
    {
      "cell_type": "markdown",
      "source": [
        "[ANURAJ_EDA_Airbnb_Submission_.ipynb](ANURAJ_EDA_Airbnb_Submission_.ipynb)"
      ],
      "metadata": {
        "id": "h1o69JH3Eqqn"
      }
    },
    {
      "cell_type": "markdown",
      "source": [
        "# **Problem Statement**\n"
      ],
      "metadata": {
        "id": "yQaldy8SH6Dl"
      }
    },
    {
      "cell_type": "markdown",
      "source": [
        "The task of this project is to analyze the provided dataset to uncover valuable insights. These insights will be used by stakeholders to inform and guide business improvements, ultimately enhancing decision-making and driving strategic growth."
      ],
      "metadata": {
        "id": "DpeJGUA3kjGy"
      }
    },
    {
      "cell_type": "markdown",
      "source": [
        "#### **Define Your Business Objective?**"
      ],
      "metadata": {
        "id": "PH-0ReGfmX4f"
      }
    },
    {
      "cell_type": "markdown",
      "source": [
        "The goal of this project is to uncover opportunities for business improvement by analyzing customer preferences and identifying key patterns. By deriving actionable insights from the data, we aim to enhance customer satisfaction and optimize overall business performance."
      ],
      "metadata": {
        "id": "PhDvGCAqmjP1"
      }
    },
    {
      "cell_type": "markdown",
      "source": [
        "# **General Guidelines** : -  "
      ],
      "metadata": {
        "id": "mDgbUHAGgjLW"
      }
    },
    {
      "cell_type": "markdown",
      "source": [
        "1.   Well-structured, formatted, and commented code is required.\n",
        "2.   Exception Handling, Production Grade Code & Deployment Ready Code will be a plus. Those students will be awarded some additional credits.\n",
        "     \n",
        "     The additional credits will have advantages over other students during Star Student selection.\n",
        "       \n",
        "             [ Note: - Deployment Ready Code is defined as, the whole .ipynb notebook should be executable in one go\n",
        "                       without a single error logged. ]\n",
        "\n",
        "3.   Each and every logic should have proper comments.\n",
        "4. You may add as many number of charts you want. Make Sure for each and every chart the following format should be answered.\n",
        "        \n",
        "\n",
        "```\n",
        "# Chart visualization code\n",
        "```\n",
        "            \n",
        "\n",
        "*   Why did you pick the specific chart?\n",
        "*   What is/are the insight(s) found from the chart?\n",
        "* Will the gained insights help creating a positive business impact?\n",
        "Are there any insights that lead to negative growth? Justify with specific reason.\n",
        "\n",
        "5. You have to create at least 20 logical & meaningful charts having important insights.\n",
        "\n",
        "\n",
        "[ Hints : - Do the Vizualization in  a structured way while following \"UBM\" Rule.\n",
        "\n",
        "U - Univariate Analysis,\n",
        "\n",
        "B - Bivariate Analysis (Numerical - Categorical, Numerical - Numerical, Categorical - Categorical)\n",
        "\n",
        "M - Multivariate Analysis\n",
        " ]\n",
        "\n",
        "\n",
        "\n"
      ],
      "metadata": {
        "id": "ZrxVaUj-hHfC"
      }
    },
    {
      "cell_type": "markdown",
      "source": [
        "# ***Let's Begin !***"
      ],
      "metadata": {
        "id": "O_i_v8NEhb9l"
      }
    },
    {
      "cell_type": "markdown",
      "source": [
        "## ***1. Know Your Data***"
      ],
      "metadata": {
        "id": "HhfV-JJviCcP"
      }
    },
    {
      "cell_type": "markdown",
      "source": [
        "### Import Libraries"
      ],
      "metadata": {
        "id": "Y3lxredqlCYt"
      }
    },
    {
      "cell_type": "code",
      "source": [
        "# Import Libraries\n",
        "import pandas as pd\n",
        "import numpy as np\n",
        "from matplotlib import pyplot as plt\n",
        "import math\n",
        "import seaborn as sns\n",
        "import openpyxl\n",
        "pd.set_option('display.max_columns', 200)"
      ],
      "metadata": {
        "id": "M8Vqi-pPk-HR"
      },
      "execution_count": null,
      "outputs": []
    },
    {
      "cell_type": "markdown",
      "source": [
        "### Dataset Loading"
      ],
      "metadata": {
        "id": "3RnN4peoiCZX"
      }
    },
    {
      "cell_type": "code",
      "source": [
        "# Load Dataset\n",
        "airbnb_df = pd.DataFrame(pd.read_csv(\"/content/Airbnb NYC 2019.csv\"))"
      ],
      "metadata": {
        "id": "4CkvbW_SlZ_R"
      },
      "execution_count": null,
      "outputs": []
    },
    {
      "cell_type": "markdown",
      "source": [
        "### Dataset First View"
      ],
      "metadata": {
        "id": "x71ZqKXriCWQ"
      }
    },
    {
      "cell_type": "code",
      "source": [
        "# Dataset First Look\n",
        "airbnb_df.head(5)"
      ],
      "metadata": {
        "id": "LWNFOSvLl09H"
      },
      "execution_count": null,
      "outputs": []
    },
    {
      "cell_type": "markdown",
      "source": [
        "As we can see here is the first look of our dataset on which we will be working, let's dive deep into it."
      ],
      "metadata": {
        "id": "ijvvBWwnM-d4"
      }
    },
    {
      "cell_type": "code",
      "source": [
        "# Let's check for all the columns we have in our dataset.\n",
        "airbnb_df.columns"
      ],
      "metadata": {
        "id": "Kllu7SJgmLij"
      },
      "execution_count": null,
      "outputs": []
    },
    {
      "cell_type": "markdown",
      "source": [
        "Here is the list of all our columns in the dataset.\n"
      ],
      "metadata": {
        "id": "TxfU3D-LONz-"
      }
    },
    {
      "cell_type": "markdown",
      "source": [
        "### Dataset Rows & Columns count"
      ],
      "metadata": {
        "id": "7hBIi_osiCS2"
      }
    },
    {
      "cell_type": "code",
      "source": [
        "# Dataset Rows & Columns count\n",
        "airbnb_df.shape"
      ],
      "metadata": {
        "id": "e9hRXRi6meOf"
      },
      "execution_count": null,
      "outputs": []
    },
    {
      "cell_type": "markdown",
      "source": [
        "Looking at the shape of our dataset we can see that the number of rows is significantly high as compared to the number of columns. We have:- rows = 48895 columns = 16"
      ],
      "metadata": {
        "id": "SZzqBAnTORgQ"
      }
    },
    {
      "cell_type": "markdown",
      "source": [
        "### Dataset Information"
      ],
      "metadata": {
        "id": "JlHwYmJAmNHm"
      }
    },
    {
      "cell_type": "code",
      "source": [
        "# Dataset Info\n",
        "airbnb_df.info()"
      ],
      "metadata": {
        "id": "1sLdpKYkmox0"
      },
      "execution_count": null,
      "outputs": []
    },
    {
      "cell_type": "markdown",
      "source": [
        "Here we can see the division of Categorical and Numerical values in our dataset, We can see:-\n",
        "*   3 columns have float64 data values\n",
        "*   7 columns have int64 data type values\n",
        "*   6 columns have object data type values"
      ],
      "metadata": {
        "id": "eJNbE4tzPWGJ"
      }
    },
    {
      "cell_type": "markdown",
      "source": [
        "#### Duplicate Values"
      ],
      "metadata": {
        "id": "35m5QtbWiB9F"
      }
    },
    {
      "cell_type": "code",
      "source": [
        "# Dataset Duplicate Value Count\n",
        "duplicated_values = airbnb_df[airbnb_df.duplicated()]\n",
        "duplicated_values"
      ],
      "metadata": {
        "id": "SP5t9uTQZpF7"
      },
      "execution_count": null,
      "outputs": []
    },
    {
      "cell_type": "markdown",
      "source": [
        "With this we can see that there are no exact duplicate values, however we need to check for other columns as well, like id and name, as these values are not likely to be same."
      ],
      "metadata": {
        "id": "WtDDVxiNZ48Z"
      }
    },
    {
      "cell_type": "code",
      "source": [
        "# Let us first check for 'id' column.\n",
        "duplicated_id = airbnb_df[airbnb_df.duplicated(subset=['id'])]\n",
        "duplicated_id"
      ],
      "metadata": {
        "id": "AFmRpgfUZ4rP"
      },
      "execution_count": null,
      "outputs": []
    },
    {
      "cell_type": "markdown",
      "source": [
        "As we can see there is no duplicated 'id's in our dataset."
      ],
      "metadata": {
        "id": "TQN9unyMaWPN"
      }
    },
    {
      "cell_type": "code",
      "source": [
        "# Now let us check for 'name' column.\n",
        "duplicated_name = airbnb_df[airbnb_df.duplicated(subset=['name'])]\n",
        "duplicated_name\n"
      ],
      "metadata": {
        "id": "Kf3qk8FXaWGd"
      },
      "execution_count": null,
      "outputs": []
    },
    {
      "cell_type": "markdown",
      "source": [
        "Now as we can see we have 998 rows that are duplicates, this might be due to some changes to get an idea for the reason of these duplicated values, let us observe any one of the rows."
      ],
      "metadata": {
        "id": "wo6NGFwfaon_"
      }
    },
    {
      "cell_type": "code",
      "source": [
        "# We can check for any specific row having the name value included in the duplicated data, using the query command.\n",
        "# Let's check for where name is 'Superior @ Box House', which is in our duplicated data.\n",
        "airbnb_df.query('name == \"Superior @ Box House\"')"
      ],
      "metadata": {
        "id": "8-tMzWBCaobo"
      },
      "execution_count": null,
      "outputs": []
    },
    {
      "cell_type": "markdown",
      "source": [
        "Here we can observe that almost all the values are same except for the id, latitude, longitude, number_of_reviews, reviews_per_month, availability_365. However these columns can be different, and they are not so important."
      ],
      "metadata": {
        "id": "CV0JrI4ObCeC"
      }
    },
    {
      "cell_type": "code",
      "source": [
        "# To tackle this issue we will create a new data frame in which we will include\n",
        "# only those columns which are really important for us.\n",
        "airbnb_df = airbnb_df[['id', 'name', 'host_id', 'host_name', 'neighbourhood_group',\n",
        "       'neighbourhood', 'latitude', 'longitude', 'room_type', 'price',\n",
        "       'minimum_nights', 'number_of_reviews', 'last_review',\n",
        "       'reviews_per_month', 'calculated_host_listings_count',\n",
        "       'availability_365']].copy()"
      ],
      "metadata": {
        "id": "cLw3YzLkbCV5"
      },
      "execution_count": null,
      "outputs": []
    },
    {
      "cell_type": "markdown",
      "source": [
        "Now that we have created this dataframe we will be able to handle duplicated values more efficiently."
      ],
      "metadata": {
        "id": "O4UsCOMlbXUa"
      }
    },
    {
      "cell_type": "code",
      "source": [
        "# Let's check for the duplicated values of any other row.\n",
        "airbnb_df.query('name == \"Loft w/ Terrace @ Box House Hotel\"')"
      ],
      "metadata": {
        "id": "a3MxbkpSbXK4"
      },
      "execution_count": null,
      "outputs": []
    },
    {
      "cell_type": "markdown",
      "source": [
        "As we can see here each and every value is almost the same, except for the prices, there might be a chances that the prices were altered as per the market condition due however the hotel is the same."
      ],
      "metadata": {
        "id": "4eTVEUxXbheE"
      }
    },
    {
      "cell_type": "code",
      "source": [
        "# In this case we will seek out the duplicated values for those columns which are concerning and may effect the data if duplicated.\n",
        "# Checking for the values where - 'name', 'host_name','neighbourhood_group', 'neighbourhood', 'room_type' are duplicated.\n",
        "\n",
        "airbnb_df.loc[airbnb_df.duplicated(subset= ['name', 'host_name', 'neighbourhood_group', 'neighbourhood', 'room_type'])]"
      ],
      "metadata": {
        "id": "dTOwHmMTbhU3"
      },
      "execution_count": null,
      "outputs": []
    },
    {
      "cell_type": "code",
      "source": [
        "# Let's check for any specific value.\n",
        "airbnb_df.query('name == \"✿✿✿ COUNTRY COTTAGE IN THE CITY✿✿✿\"')"
      ],
      "metadata": {
        "id": "i4-75foNb7Ul"
      },
      "execution_count": null,
      "outputs": []
    },
    {
      "cell_type": "markdown",
      "source": [
        "In this now we can see that all the values are same except for last_review and reviews_per_month, which are not so important regarding duplicacy.\n",
        "\n",
        "Now to drop the duplicated values we will sort out dataframe on the basis of latest entries, for which we need to have a timestamp in our dataset, in our dataset we can use the 'last_review' column as the timestamp for our dataset.\n",
        "\n"
      ],
      "metadata": {
        "id": "PU8ujSlFcFbN"
      }
    },
    {
      "cell_type": "code",
      "source": [
        "# Converting the 'last_review' column in a datetime format.\n",
        "airbnb_df['last_review'] = pd.to_datetime(airbnb_df['last_review'])"
      ],
      "metadata": {
        "id": "gmB2b6SScJ7j"
      },
      "execution_count": null,
      "outputs": []
    },
    {
      "cell_type": "code",
      "source": [
        "# Now let us sort the data by the last_review column\n",
        "airbnb_df = airbnb_df.sort_values(by='last_review', ascending=False).reset_index(drop=True)"
      ],
      "metadata": {
        "id": "5u7_HNyBcTOy"
      },
      "execution_count": null,
      "outputs": []
    },
    {
      "cell_type": "markdown",
      "source": [
        "As we can see there are few NA values in our dataframe in the date column let's fill these values with the latest dates we are having in our dataframe."
      ],
      "metadata": {
        "id": "WuCAIjuicVfB"
      }
    },
    {
      "cell_type": "code",
      "source": [
        "# Replacing NA Values\n",
        "airbnb_df['last_review'].replace(np.nan,airbnb_df['last_review'].max(), inplace=True)\n",
        "\n",
        "# Let's sort the values again\n",
        "airbnb_df = airbnb_df.sort_values(by='last_review', ascending=False).reset_index(drop=True)"
      ],
      "metadata": {
        "id": "DQoAEAqrdTt1"
      },
      "execution_count": null,
      "outputs": []
    },
    {
      "cell_type": "code",
      "source": [
        "# Dropping duplicated values\n",
        "airbnb_df = airbnb_df.drop_duplicates(subset=['name', 'host_name', 'neighbourhood_group', 'neighbourhood', 'room_type'], keep='first').reset_index(drop=True)\n",
        "\n",
        "# Now the duplicated columns have been dropped, let's check the current shape of our data frame.\n",
        "airbnb_df.shape # (48655, 14)\n",
        "\n",
        "# Let's check if there are any duplicated values now\n",
        "airbnb_df[airbnb_df.duplicated(subset=['name', 'host_name', 'neighbourhood_group', 'neighbourhood', 'room_type'])] # No values\n",
        "\n",
        "airbnb_df.query('name == \"✿✿✿ COUNTRY COTTAGE IN THE CITY✿✿✿\"') # The latest value shows up"
      ],
      "metadata": {
        "id": "37Pfmpz6d2ny"
      },
      "execution_count": null,
      "outputs": []
    },
    {
      "cell_type": "markdown",
      "source": [
        "We have successfully dropped the duplicated values and now we only have latest data values."
      ],
      "metadata": {
        "id": "RHpBRyp1d__f"
      }
    },
    {
      "cell_type": "markdown",
      "source": [
        "#### Missing Values/Null Values"
      ],
      "metadata": {
        "id": "PoPl-ycgm1ru"
      }
    },
    {
      "cell_type": "code",
      "source": [
        "# Missing Values/Null Values Count\n",
        "null_values = airbnb_df.isnull()\n",
        "null_value_count = null_values.sum()"
      ],
      "metadata": {
        "id": "GgHWkxvamxVg"
      },
      "execution_count": null,
      "outputs": []
    },
    {
      "cell_type": "code",
      "source": [
        "# Visualizing the missing values\n",
        "null_value_count"
      ],
      "metadata": {
        "id": "3q5wnI3om9sJ"
      },
      "execution_count": null,
      "outputs": []
    },
    {
      "cell_type": "markdown",
      "source": [
        "As we can see we were having missing values in name and host_name columns, however as we are having their respective ids we will still be able to manage the data, however let us check for outliers."
      ],
      "metadata": {
        "id": "aLmhuxzPeTwb"
      }
    },
    {
      "cell_type": "code",
      "source": [
        "# To check the outliers we need to check the columns which are having numerical data.\n",
        "airbnb_df.describe()"
      ],
      "metadata": {
        "id": "sTKMMgimeUpu"
      },
      "execution_count": null,
      "outputs": []
    },
    {
      "cell_type": "markdown",
      "source": [
        "If we look into this data we can see that the price and the minimum_nights columns are the most concerning ones, in these 2 columns we need to find the outliers and drop them."
      ],
      "metadata": {
        "id": "UxT_kRGOeZ1N"
      }
    },
    {
      "cell_type": "code",
      "source": [
        "# As we see above the column_name 'calculated_host_listings_count' is quiet long\n",
        "# Let's change it to 'listings'\n",
        "airbnb_df.rename(columns={\n",
        "    \"calculated_host_listings_count\": 'listings'\n",
        "}, inplace=True)\n",
        "\n",
        "# Lets check the price columns once\n",
        "airbnb_df['price'].describe()\n",
        "\n",
        "# As we can see the min price is 0 which is not likely to happen.\n",
        "# According to the current website the price range starts from $25.\n",
        "# In this case we will check for the prices which are below $25 and we will\n",
        "# replace their values with 25 so that we can handle the outliers in price column.\n",
        "\n",
        "airbnb_df['price'].replace(range(0, 25), 25, inplace=True) # replacing values\n",
        "airbnb_df['price'].describe()"
      ],
      "metadata": {
        "id": "dXDQ9pmuearD"
      },
      "execution_count": null,
      "outputs": []
    },
    {
      "cell_type": "markdown",
      "source": [
        "As the few price values were less than $25, which is not likely to happen, we have converted those values into 25, so that we may handle the outliers more efficiently, as there was other crucial info present in those rows."
      ],
      "metadata": {
        "id": "Rw-hZ68Cegx0"
      }
    },
    {
      "cell_type": "code",
      "source": [
        "# Now let's check the minimum_nights column.\n",
        "airbnb_df['minimum_nights'].describe()\n",
        "\n",
        "# As the minimum value in this column is 1, we can work on only the upper limit.\n",
        "# In this case if any value is more than 365 days, we will mark it as 365.\n",
        "\n",
        "airbnb_df['minimum_nights'].replace(range(366, 1251), 365, inplace=True) # replacing values\n",
        "airbnb_df['minimum_nights'].describe()"
      ],
      "metadata": {
        "id": "wJrhlWMkejPj"
      },
      "execution_count": null,
      "outputs": []
    },
    {
      "cell_type": "markdown",
      "source": [
        "Now we have modified the outliers, we can move ahead with our dataset ready to be wrangled for deriving insights."
      ],
      "metadata": {
        "id": "DesYJw7Gem3d"
      }
    },
    {
      "cell_type": "markdown",
      "source": [
        "### What did you know about your dataset?"
      ],
      "metadata": {
        "id": "H0kj-8xxnORC"
      }
    },
    {
      "cell_type": "markdown",
      "source": [
        "The Airbnb NYC 2019 dataset comprises 48,895 rows and 16 columns. It includes both numerical and categorical data types, organized as follows:\n",
        "\n",
        " 3 columns have float64 data values (Numerical) 7 columns have int64 data type values (Numerical) 6 columns have object data type values (Categorical)\n",
        "\n",
        "The primary key of our dataset is the \"id\" column, having a unique IDs for the hotel names.\n",
        "\n",
        "Here is the list of columns:- ['id', 'name', 'host_id', 'host_name', 'neighbourhood_group', 'neighbourhood', 'latitude', 'longitude', 'room_type', 'price', 'minimum_nights', 'number_of_reviews', 'last_review', 'reviews_per_month', 'calculated_host_listings_count', 'availability_365']\n",
        "\n",
        "Data Quality and Handling:\n",
        "\n",
        "Duplicate Values: The dataset had no exact duplicate rows, but there were 998\n",
        "duplicate entries in the name column. These duplicates primarily differed in price, likely due to price changes over time. To address this, we sorted the dataframe by the last_review column, which we used as a timestamp to retain the most recent entry.\n",
        "\n",
        "Missing Values:\n",
        "\n",
        "last_review: 10052 missing values\n",
        "\n",
        "reviews_per_month: 10052 missing values\n",
        "\n",
        "As the date column was missing values we replaced the NA values with the latest date present in our dataset, so that the time stamp could be efficient.\n",
        "\n",
        "We are also missing few \"Names\" as well as \"Host Names\":-\n",
        "\n",
        "name = 16\n",
        "\n",
        "host_name = 21\n",
        "\n",
        "We have now successfully formatted our dataframe and it is now ready for data wrangling."
      ],
      "metadata": {
        "id": "gfoNAAC-nUe_"
      }
    },
    {
      "cell_type": "markdown",
      "source": [
        "## ***2. Understanding Your Variables***"
      ],
      "metadata": {
        "id": "nA9Y7ga8ng1Z"
      }
    },
    {
      "cell_type": "code",
      "source": [
        "airbnb_df.head()"
      ],
      "metadata": {
        "id": "j7xfkqrt5Ag5"
      },
      "execution_count": null,
      "outputs": []
    },
    {
      "cell_type": "code",
      "source": [
        "# Dataset Columns\n",
        "df_columns = airbnb_df.columns\n",
        "df_columns"
      ],
      "metadata": {
        "id": "ZFXaglG79cvP"
      },
      "execution_count": null,
      "outputs": []
    },
    {
      "cell_type": "code",
      "source": [
        "# Dataset Describe\n",
        "df_describe = airbnb_df.describe()\n",
        "df_describe # These are all the numerical variables in our dataset."
      ],
      "metadata": {
        "id": "DnOaZdaE5Q5t"
      },
      "execution_count": null,
      "outputs": []
    },
    {
      "cell_type": "markdown",
      "source": [
        "### Variables Description"
      ],
      "metadata": {
        "id": "PBTbrJXOngz2"
      }
    },
    {
      "cell_type": "markdown",
      "source": [
        "We have various outputs that can be analyzed to derive insights and make informed conclusions based on the data. For instance, although we observe a broad range of prices, the average price preferred by customers is approximately 150. This information helps us understand the budget and preferences of our guests."
      ],
      "metadata": {
        "id": "aJV4KIxSnxay"
      }
    },
    {
      "cell_type": "markdown",
      "source": [
        "### Check Unique Values for each variable."
      ],
      "metadata": {
        "id": "u3PMJOP6ngxN"
      }
    },
    {
      "cell_type": "code",
      "source": [
        "# Check Unique Values for each variable.\n",
        "def unique_value(df):\n",
        "  for column in df.columns:\n",
        "    unique_values = df[column].unique()\n",
        "    print(f\"Unique values for '{column}': {unique_values}\")"
      ],
      "metadata": {
        "id": "zms12Yq5n-jE"
      },
      "execution_count": null,
      "outputs": []
    },
    {
      "cell_type": "markdown",
      "source": [
        "## 3. ***Data Wrangling***"
      ],
      "metadata": {
        "id": "dauF4eBmngu3"
      }
    },
    {
      "cell_type": "markdown",
      "source": [
        "### Data Wrangling Code"
      ],
      "metadata": {
        "id": "bKJF3rekwFvQ"
      }
    },
    {
      "cell_type": "markdown",
      "source": [
        "Let's create a new column with the price range distribution. We will use it while working with the price column."
      ],
      "metadata": {
        "id": "JUO4bq-E8wki"
      }
    },
    {
      "cell_type": "code",
      "source": [
        "# Write your code to make your dataset analysis ready.\n",
        "start = 0\n",
        "end = 10000\n",
        "breakpoints = np.linspace(start, end, num=101)\n",
        "breakpoints = breakpoints.astype(int)\n",
        "def price_range(amt):\n",
        "    bp = breakpoints\n",
        "    for i in range(len(breakpoints)-1):\n",
        "        if bp[i] <= amt <= bp[i+1]:\n",
        "            return f\"{bp[i]} - {bp[i+1]}\"\n",
        "\n",
        "\n",
        "airbnb_df['price_range'] = airbnb_df['price'].apply(lambda amt: price_range(amt))\n",
        "airbnb_df['price_range']"
      ],
      "metadata": {
        "id": "wk-9a2fpoLcV"
      },
      "execution_count": null,
      "outputs": []
    },
    {
      "cell_type": "markdown",
      "source": [
        "Creating a price range column offers several benefits:\n",
        "\n",
        "- **Data Summarization**: It provides a clear summary of the price distribution within our dataset.\n",
        "- **Visualization**: A price range column is more effective for visualization compared to individual price points.\n",
        "- **Segmentation and Analysis**: It segments prices into distinct ranges, making it easier to compare different segments.\n",
        "- **Decision Making**: This information can aid in decision-making by helping tailor recommendations to customer budgets and requirements.\n",
        "- **Communicating Insights**: It clearly conveys customer budgets and preferences, revealing where most customers fall in terms of purchasing power."
      ],
      "metadata": {
        "id": "uAPgfUSL8Mth"
      }
    },
    {
      "cell_type": "code",
      "source": [
        "# Let's take a look at our dataset once.\n",
        "airbnb_df.head()\n",
        "\n",
        "# As we can see our dataset is sorted according to the last review, let us sort our dataset according to the price.\n",
        "airbnb_df.sort_values(by='price', ascending=False, inplace=True)\n",
        "\n",
        "# Let's take a look at our price sorted dataset once.\n",
        "airbnb_df.head()"
      ],
      "metadata": {
        "id": "IuoljfQz8ip5"
      },
      "execution_count": null,
      "outputs": []
    },
    {
      "cell_type": "code",
      "source": [
        "# Let us check our columns and filter those columns that will work as our features.\n",
        "airbnb_df.columns"
      ],
      "metadata": {
        "id": "-9W6Iiba9TVI"
      },
      "execution_count": null,
      "outputs": []
    },
    {
      "cell_type": "code",
      "source": [
        "# Let filter the dataframe with only the required columns.\n",
        "feature_df = airbnb_df[['id', 'name', 'host_id', 'neighbourhood_group',\n",
        "       'neighbourhood', 'room_type', 'price', 'minimum_nights',\n",
        "       'number_of_reviews', 'reviews_per_month', 'listings',\n",
        "       'availability_365', 'price_range']]\n",
        "\n",
        "feature_df = feature_df.reset_index(drop=True)\n",
        "feature_df.head()"
      ],
      "metadata": {
        "id": "2gfRV9jf9Wxe"
      },
      "execution_count": null,
      "outputs": []
    },
    {
      "cell_type": "code",
      "source": [
        "feature_df.head()"
      ],
      "metadata": {
        "id": "ZMGfyLX-9dq_"
      },
      "execution_count": null,
      "outputs": []
    },
    {
      "cell_type": "code",
      "source": [
        "# Let's check the top performing Host as per the total listing count\n",
        "host_groups = feature_df.groupby('name')\n",
        "hosts = []\n",
        "no_of_listings = []\n",
        "host_prices = []\n",
        "for host, data in host_groups:\n",
        "  hosts.append(host)\n",
        "  no_of_listings.append(data['listings'].sum())\n",
        "  host_prices.append(data['price'].mean())\n",
        "\n",
        "host_df = pd.DataFrame({\n",
        "    'Host Name': hosts,\n",
        "    'Total Listings': no_of_listings,\n",
        "    'Price': host_prices\n",
        "})\n",
        "host_df = host_df.sort_values(by='Total Listings', ascending=False).reset_index(drop=True)\n",
        "host_df = host_df.drop_duplicates(subset='Total Listings').reset_index(drop=True)\n",
        "top_10_hosts = host_df.head(10)\n",
        "\n",
        "host_df['Revenue'] = (host_df['Total Listings'])*(host_df['Price'])\n",
        "top_host_revenue = host_df.sort_values(by='Revenue', ascending=False).reset_index(drop=True)\n",
        "top_host_revenue.head(10)"
      ],
      "metadata": {
        "id": "sWHWfbNX9hRG"
      },
      "execution_count": null,
      "outputs": []
    },
    {
      "cell_type": "code",
      "source": [
        "# First let's check how many neighbourhood_groups are there.\n",
        "feature_df['neighbourhood_group'].unique() # There are 5 different groups.\n",
        "\n",
        "# ['Brooklyn', 'Queens', 'Manhattan', 'Staten Island', 'Bronx']\n",
        "#  let's group our dataset according to the neighbourhood groups.\n",
        "\n",
        "n_groups = feature_df.groupby('neighbourhood_group')\n",
        "\n",
        "# Let's check which group is most prefered as per the listings, and no. of reviews.\n",
        "groups = [] # To save the groups\n",
        "listings = []\n",
        "reviews = []\n",
        "max_price = []\n",
        "min_price = []\n",
        "for group, data in n_groups:\n",
        "  groups.append(group)\n",
        "  listings.append(data['listings'].sum())\n",
        "  reviews.append(data['number_of_reviews'].sum())\n",
        "  max_price.append(data['price'].max())\n",
        "  min_price.append(data['price'].min())\n",
        "\n",
        "group_feat_df = pd.DataFrame({\n",
        "    'Group': groups,\n",
        "    'Listing Count': listings,\n",
        "    'No._of_reviews': reviews,\n",
        "    'Min Price': min_price,\n",
        "    'Max Price': max_price\n",
        "})\n",
        "\n",
        "group_feat_df\n",
        "# Here we can see that Manhattan group is the most prefered group as per the listings.\n",
        "# However the most reviews are given to the Brooklyn group.\n",
        "\n",
        "# Now let's divide our dataset as per the room types, and create their groups.\n",
        "# First let's check how room_types are there.\n",
        "\n",
        "feature_df['room_type'].unique() # There are 3 room types.\n",
        "\n",
        "# ['Entire home/apt', 'Private room', 'Shared room']\n",
        "#  let's group our dataset according to the room types.\n",
        "\n",
        "room_groups = feature_df.groupby('room_type')\n",
        "rooms = []\n",
        "room_listings = []\n",
        "room_reviews = []\n",
        "max_room_price = []\n",
        "min_room_price = []\n",
        "for room_type, room_data in room_groups:\n",
        "    rooms.append(room_type)\n",
        "    room_listings.append(room_data['listings'].sum())\n",
        "    max_room_price.append(room_data['price'].max())\n",
        "    min_room_price.append(room_data['price'].min())\n",
        "\n",
        "room_feat_df = pd.DataFrame({\n",
        "    'Group': rooms,\n",
        "    'Listing Count': room_listings,\n",
        "    'Min Price': min_room_price,\n",
        "    'Max Price': max_room_price\n",
        "})\n",
        "\n",
        "room_feat_df\n",
        "# Here we can see the most prefered room type is the Entire home/apt.\n",
        "# The most reviews are also given to the Entire home/apt.\n",
        "# Shared rooms are the least prefered."
      ],
      "metadata": {
        "id": "Tsev3qhk9vu4"
      },
      "execution_count": null,
      "outputs": []
    },
    {
      "cell_type": "code",
      "source": [
        "# Now let us check how many different neighbourhoods are there in total.\n",
        "feature_df['neighbourhood'].count() # There are 48655 neighbourhoods\n",
        "\n",
        "# Now let us check what are the top 10 most prefered neighbourhoods.\n",
        "# Also, let's check their average pricing and average price range.\n",
        "area_groups = feature_df.groupby('neighbourhood')\n",
        "areas = []\n",
        "listing_count = []\n",
        "avg_price = []\n",
        "for area, n_data in area_groups:\n",
        "  areas.append(area)\n",
        "  listing_count.append(n_data['listings'].sum())\n",
        "  avg_price.append(round(n_data['price'].mean(), 2))\n",
        "\n",
        "area_feat_df = pd.DataFrame({\n",
        "    'Area': areas,\n",
        "    'Listing Count': listing_count,\n",
        "    'Average Price': avg_price,\n",
        "})\n",
        "\n",
        "area_feat_df = area_feat_df.sort_values(by='Listing Count', ascending=False).reset_index(drop=True)\n",
        "area_feat_df.head(10)"
      ],
      "metadata": {
        "id": "pAkr2zjL9zw5"
      },
      "execution_count": null,
      "outputs": []
    },
    {
      "cell_type": "code",
      "source": [
        "# Let us now work with relationships.\n",
        "# Relationship: Price vs. Room Type\n",
        "# Checking the distribution of prices for different room types.\n",
        "# \"room_groups\" is our grouped dataframe we will be using this.\n",
        "\n",
        "avg_room_price = []\n",
        "for room, data in room_groups:\n",
        "  avg_room_price.append(data['price'].mean())\n",
        "\n",
        "room_vs_price = pd.DataFrame({\n",
        "    'Room Type': rooms,\n",
        "    'Avg_Price': avg_room_price\n",
        "})\n",
        "\n",
        "room_vs_price\n",
        "\n",
        "# As we can see here the Entire home/apt is having the highest pricing."
      ],
      "metadata": {
        "id": "25AuBTFp94Zt"
      },
      "execution_count": null,
      "outputs": []
    },
    {
      "cell_type": "code",
      "source": [
        "# Relationship: Reviews per Month vs. Room Type\n",
        "# Comparing the distribution of reviews per month for different room types.\n",
        "\n",
        "total_reviews = []\n",
        "for room, data in room_groups:\n",
        "  total_reviews.append(data['reviews_per_month'].sum())\n",
        "\n",
        "room_vs_reviews = pd.DataFrame({\n",
        "    'Room Type': rooms,\n",
        "    'Reviews': total_reviews\n",
        "})\n",
        "\n",
        "room_vs_reviews\n",
        "# As we can see here the Entire home/apt is having the highest no. of reviews per month."
      ],
      "metadata": {
        "id": "mJoLvFnC98N1"
      },
      "execution_count": null,
      "outputs": []
    },
    {
      "cell_type": "markdown",
      "source": [
        "### What all manipulations have you done and insights you found?"
      ],
      "metadata": {
        "id": "MSa1f5Uengrz"
      }
    },
    {
      "cell_type": "markdown",
      "source": [
        "This dataset had well-distributed information, which was great for our study. Since it's from Airbnb, the locations are very important, and the data was well-organized by location and area.\n",
        "\n",
        "We performed several manipulations to provide useful insights for stakeholders and help hosts understand customer preferences, as promised in our plan.\n",
        "\n",
        "Here’s a summary of the steps we took:\n",
        "\n",
        "1. **Created a Price Range Column**: This column helps categorize prices and gives us a clearer idea of customer budgets. We aimed to make it as precise as possible.\n",
        "\n",
        "2. **Sorted the Dataset by Price**: We sorted the data by price to highlight the most expensive listings at the top, since the original data was not organized in a meaningful way.\n",
        "\n",
        "3. **Filtered the Data**: We streamlined the dataset by focusing only on the columns necessary for analysis, making it simpler and less chaotic.\n",
        "\n",
        "4. **Divided Data into Categories**: We organized the data into different groups to gain specific insights:\n",
        "   - **Neighborhood Groups**: To identify the most popular neighborhoods.\n",
        "   - **Room Type Groups**: To find out which room types are preferred.\n",
        "   - **Neighborhood Area Groups**: To determine the most favored areas within neighborhoods.\n",
        "\n",
        "We also explored some key relationships to help with decision-making:\n",
        "\n",
        "1. **Price vs. Room Type**: We examined how prices vary by room type to identify which types are most expensive.\n",
        "\n",
        "2. **Reviews per Month vs. Room Type**: We looked at the number of reviews for different room types to gauge customer satisfaction and engagement.\n",
        "\n",
        "3. **Price vs. Neighborhood**: We compared prices across neighborhoods to find out where prices are higher or lower and to understand price variations.\n",
        "\n",
        "These manipulations were done to gather useful information that can support business growth and improve the experience for both hosts and customers. We will provide detailed insights and visualizations to make the findings clearer and easier to understand."
      ],
      "metadata": {
        "id": "LbyXE7I1olp8"
      }
    },
    {
      "cell_type": "markdown",
      "source": [
        "## ***4. Data Vizualization, Storytelling & Experimenting with charts : Understand the relationships between variables***"
      ],
      "metadata": {
        "id": "GF8Ens_Soomf"
      }
    },
    {
      "cell_type": "markdown",
      "source": [
        "#### Chart - 1"
      ],
      "metadata": {
        "id": "0wOQAZs5pc--"
      }
    },
    {
      "cell_type": "code",
      "source": [
        "# Chart - 1 visualization code\n",
        "# Let's visualize the most prefered neighbourhood group with a bar chart\n",
        "\n",
        "group_feat_df # As we have already created a dataframe for the groups\n",
        "\n",
        "plt.figure(figsize=(10,5))\n",
        "# plt.plot(groups,listings, color='black', marker = \"o\", markerfacecolor = 'blue', markeredgecolor='blue',linestyle='-')\n",
        "colors = ['red', 'blue', 'green', 'orange', 'purple'] # To make each bar with a different color\n",
        "sns.barplot(x=\"Group\", y='Listing Count', data=group_feat_df, hue='Group', palette=colors, legend=False)\n",
        "plt.xlabel('Groups')\n",
        "plt.ylabel('Listing Counts')\n",
        "plt.title('Most prefered neighbourhood')\n",
        "for x, y in zip(range(len(groups)), listings):\n",
        "    plt.text(x, y, f'{y}', ha='center', va='bottom') # To annotate each bar with the exact value"
      ],
      "metadata": {
        "id": "7v_ESjsspbW7"
      },
      "execution_count": null,
      "outputs": []
    },
    {
      "cell_type": "markdown",
      "source": [
        "##### 1. Why did you pick the specific chart?"
      ],
      "metadata": {
        "id": "K5QZ13OEpz2H"
      }
    },
    {
      "cell_type": "markdown",
      "source": [
        "To determine which group is the most preferred, we need to evaluate the values for each group and compare them. A bar chart is the ideal choice for this, as it effectively displays and contrasts the preferences among all the groups."
      ],
      "metadata": {
        "id": "XESiWehPqBRc"
      }
    },
    {
      "cell_type": "markdown",
      "source": [
        "##### 2. What is/are the insight(s) found from the chart?"
      ],
      "metadata": {
        "id": "lQ7QKXXCp7Bj"
      }
    },
    {
      "cell_type": "markdown",
      "source": [
        "It’s clear that Manhattan is the most preferred group by a significant margin, outperforming all others. Brooklyn follows as the second choice among our customers after Manhattan.\n",
        "\n",
        "\n",
        "\n"
      ],
      "metadata": {
        "id": "C_j1G7yiqdRP"
      }
    },
    {
      "cell_type": "markdown",
      "source": [
        "##### 3. Will the gained insights help creating a positive business impact?\n",
        "Are there any insights that lead to negative growth? Justify with specific reason.\n",
        "\n"
      ],
      "metadata": {
        "id": "448CDAPjqfQr"
      }
    },
    {
      "cell_type": "markdown",
      "source": [
        "Certainly! Understanding our customers' preferences allows us to focus on the areas in high demand and tailor our offerings to meet their needs effectively. In this case, since Manhattan is the most preferred group, we should prioritize targeting our customers in that area to ensure their satisfaction.\n",
        "\n",
        "Regarding the negative growth in other neighborhoods, the low demand in these areas indicates a need for further investigation. By analyzing why these neighborhoods are less favored, we can identify the root causes of the low demand. Addressing these issues will help us understand the disparities and devise strategies to improve engagement in those areas.\n"
      ],
      "metadata": {
        "id": "3cspy4FjqxJW"
      }
    },
    {
      "cell_type": "markdown",
      "source": [
        "#### Chart - 2"
      ],
      "metadata": {
        "id": "4Of9eVA-YrdM"
      }
    },
    {
      "cell_type": "code",
      "source": [
        "# Chart - 2 visualization code\n",
        "# Let us now visualize the average price division with room types.\n",
        "\n",
        "data = {\n",
        "    'Room Type': room_vs_price['Room Type'],\n",
        "    'Avg_Price': room_vs_price['Avg_Price'],\n",
        "    'Listings': ((room_feat_df['Listing Count']/room_feat_df['Listing Count'].sum())*100)\n",
        "}\n",
        "\n",
        "# Creating a DataFrame\n",
        "df = pd.DataFrame(data)\n",
        "\n",
        "df_melted = pd.melt(df, id_vars='Room Type', var_name='Attribute', value_name='Value')\n",
        "# Creating a strip plot\n",
        "sns.barplot(x='Room Type', y='Value', data=df_melted, hue=\"Attribute\", palette=['blue', 'grey'], legend=True)\n",
        "\n",
        "# Applying annotations on the values\n",
        "for p in plt.gca().patches:\n",
        "    plt.gca().annotate('{:.1f}'.format(p.get_height()), (p.get_x() + p.get_width() / 2., p.get_height()),\n",
        "                       ha='center', va='center', fontsize=10, color='black', xytext=(0, 5),\n",
        "                       textcoords='offset points')\n",
        "\n",
        "plt.show()"
      ],
      "metadata": {
        "id": "irlUoxc8YrdO"
      },
      "execution_count": null,
      "outputs": []
    },
    {
      "cell_type": "markdown",
      "source": [
        "##### 1. Why did you pick the specific chart?"
      ],
      "metadata": {
        "id": "iky9q4vBYrdO"
      }
    },
    {
      "cell_type": "markdown",
      "source": [
        "As we are only having 3 types it was better to use the bar chart for better visualizing the divisions of the average price and the percentage of the listings divided among these values altogether."
      ],
      "metadata": {
        "id": "aJRCwT6DYrdO"
      }
    },
    {
      "cell_type": "markdown",
      "source": [
        "##### 2. What is/are the insight(s) found from the chart?"
      ],
      "metadata": {
        "id": "F6T5p64dYrdO"
      }
    },
    {
      "cell_type": "markdown",
      "source": [
        "As we can clearly see that the relationship between the average pricing the listing counts is direct, the highest pricing is in the Entire Home/Apt room type, and slo the listings division, which can be quite using in making decisions like pricing."
      ],
      "metadata": {
        "id": "Xx8WAJvtYrdO"
      }
    },
    {
      "cell_type": "markdown",
      "source": [
        "##### 3. Will the gained insights help creating a positive business impact?\n",
        "Are there any insights that lead to negative growth? Justify with specific reason."
      ],
      "metadata": {
        "id": "y-Ehk30pYrdP"
      }
    },
    {
      "cell_type": "markdown",
      "source": [
        "Yes, as we can see what percentage is ready to pay which amount for their preferences we will be able to make better pricing strategies which will definitely assist us in the growth."
      ],
      "metadata": {
        "id": "jLNxxz7MYrdP"
      }
    },
    {
      "cell_type": "markdown",
      "source": [
        "#### Chart - 3"
      ],
      "metadata": {
        "id": "KSlN3yHqYklG"
      }
    },
    {
      "cell_type": "code",
      "source": [
        "# Chart - 3 visualization code\n",
        "# Let's visualize the most prefered room type using a pie chart\n",
        "\n",
        "room_feat_df # Our grouped df created earlier\n",
        "\n",
        "# Plotting the data into a pie chart\n",
        "plt.pie(room_feat_df['Listing Count'], labels=room_feat_df['Group'], autopct=\"%1i%%\", explode=(0.1, 0, 0.1), shadow=True)\n",
        "plt.show()"
      ],
      "metadata": {
        "id": "R4YgtaqtYklH"
      },
      "execution_count": null,
      "outputs": []
    },
    {
      "cell_type": "markdown",
      "source": [
        "##### 1. Why did you pick the specific chart?"
      ],
      "metadata": {
        "id": "t6dVpIINYklI"
      }
    },
    {
      "cell_type": "markdown",
      "source": [
        "Given that we only had three types of rooms, a pie chart was an ideal choice. It provides a clear and intuitive visualization of how room listings are distributed, making it easy to compare the proportions of each type. Additionally, the pie chart displays percentage differences, offering a detailed overview of the data and emphasizing the variations among the room types."
      ],
      "metadata": {
        "id": "5aaW0BYyYklI"
      }
    },
    {
      "cell_type": "markdown",
      "source": [
        "##### 2. What is/are the insight(s) found from the chart?"
      ],
      "metadata": {
        "id": "ijmpgYnKYklI"
      }
    },
    {
      "cell_type": "markdown",
      "source": [
        "It is evident that the \"Entire Home/Apt\" room type is the most preferred, indicating that people value their privacy and prefer to stay in a space where they have complete control and minimal interference. On the other hand, shared rooms are the least favored, typically chosen by students or individuals seeking more affordable accommodation. This information can be leveraged to develop more targeted strategies for addressing the needs and preferences of different customer segments."
      ],
      "metadata": {
        "id": "PSx9atu2YklI"
      }
    },
    {
      "cell_type": "markdown",
      "source": [
        "##### 3. Will the gained insights help creating a positive business impact?\n",
        "Are there any insights that lead to negative growth? Justify with specific reason."
      ],
      "metadata": {
        "id": "-JiQyfWJYklI"
      }
    },
    {
      "cell_type": "markdown",
      "source": [
        "As we are able to see what is prefered by the majority of our customer we will be able to spend money on advertisements more efficiently which will help us to minimize our cost wastage, not only for the majority as what sort of customers prefer the other room types, we will be able to target them with their needs which will increase our consumer market even in the low demand sectors, which can work as a decoy for us."
      ],
      "metadata": {
        "id": "BcBbebzrYklV"
      }
    },
    {
      "cell_type": "markdown",
      "source": [
        "#### Chart - 4"
      ],
      "metadata": {
        "id": "EM7whBJCYoAo"
      }
    },
    {
      "cell_type": "code",
      "source": [
        "# Chart - 4 visualization code\n",
        "# Now let's check which price range has the most number of listings, it would give us an idea for the most prefered price range of our customers.\n",
        "# Let's plot the top 10 most prefered price range on chart.\n",
        "prefered_range = airbnb_df['price_range'].value_counts().head(10)\n",
        "plt.figure(figsize=(10,5))\n",
        "\n",
        "prefered_range_sorted = prefered_range.sort_index()\n",
        "plt.scatter(prefered_range.index, prefered_range, color='blue', marker='o')\n",
        "plt.plot(prefered_range_sorted.index, prefered_range_sorted, color='black', linestyle='-', linewidth=2, label='Line Connecting Dots')\n",
        "\n",
        "for x, y in zip(prefered_range_sorted.index, prefered_range_sorted): # To annotate each plotted value\n",
        "    plt.text(x, y, f'{y}', ha='center', va='bottom')\n",
        "plt.title(\"Top 10 Prefered Price Range\")\n",
        "plt.xlabel(\"Price Range\")\n",
        "plt.ylabel(\"Listings\")\n",
        "plt.grid(color='black')"
      ],
      "metadata": {
        "id": "t6GMdE67YoAp"
      },
      "execution_count": null,
      "outputs": []
    },
    {
      "cell_type": "markdown",
      "source": [
        "##### 1. Why did you pick the specific chart?"
      ],
      "metadata": {
        "id": "fge-S5ZAYoAp"
      }
    },
    {
      "cell_type": "markdown",
      "source": [
        "The plot chart can give us the graphical representation of the preferences of our customers regarding prices and how do they go through each of the price ranges. As we can see the chart is giving us a fall in the preferences as the price range increases."
      ],
      "metadata": {
        "id": "5dBItgRVYoAp"
      }
    },
    {
      "cell_type": "markdown",
      "source": [
        "##### 2. What is/are the insight(s) found from the chart?"
      ],
      "metadata": {
        "id": "85gYPyotYoAp"
      }
    },
    {
      "cell_type": "markdown",
      "source": [
        "Looking at this chart we can cleary see the budget preferences of our customers and we can see that the most prefered price range is the 0-100, however there is no 0 values as we have already dropped them. This can give us an idea on the spending power of our customers which will help us in setting better and more specific prices, also at the time of listings we can even make recommendations to our customers with their prefered price ranges."
      ],
      "metadata": {
        "id": "4jstXR6OYoAp"
      }
    },
    {
      "cell_type": "markdown",
      "source": [
        "##### 3. Will the gained insights help creating a positive business impact?\n",
        "Are there any insights that lead to negative growth? Justify with specific reason."
      ],
      "metadata": {
        "id": "RoGjAbkUYoAp"
      }
    },
    {
      "cell_type": "markdown",
      "source": [
        "Yes definitely, as customers like personalized interfaces and options, if we will focus on providing them the options that are there for them only, it would be really appreciated by them as they will not have to go through a lot while searching for things they are looking for specifically."
      ],
      "metadata": {
        "id": "zfJ8IqMcYoAp"
      }
    },
    {
      "cell_type": "markdown",
      "source": [
        "#### Chart - 5"
      ],
      "metadata": {
        "id": "BZR9WyysphqO"
      }
    },
    {
      "cell_type": "code",
      "source": [
        "# Chart - 5 visualization code\n",
        "# Reviews vs Review per month\n",
        "sns.scatterplot(x='number_of_reviews', y='reviews_per_month', data=feature_df)"
      ],
      "metadata": {
        "id": "TdPTWpAVphqO"
      },
      "execution_count": null,
      "outputs": []
    },
    {
      "cell_type": "markdown",
      "source": [
        "##### 1. Why did you pick the specific chart?"
      ],
      "metadata": {
        "id": "jj7wYXLtphqO"
      }
    },
    {
      "cell_type": "markdown",
      "source": [
        "In this case using a scatter plot can easily tell us the frequency, as we can see the review traffic is not that scattere and is rather collective."
      ],
      "metadata": {
        "id": "Ob8u6rCTphqO"
      }
    },
    {
      "cell_type": "markdown",
      "source": [
        "##### 2. What is/are the insight(s) found from the chart?"
      ],
      "metadata": {
        "id": "eZrbJ2SmphqO"
      }
    },
    {
      "cell_type": "markdown",
      "source": [
        "As we can clearly see that there is an outlier as well, however the relationship between the reviews and reviews per month is quiet direct which means that the customer are getting satisfied with the outcomes, where the number of review is higher and the host is also getting good reach towards consumer market."
      ],
      "metadata": {
        "id": "mZtgC_hjphqO"
      }
    },
    {
      "cell_type": "markdown",
      "source": [
        "##### 3. Will the gained insights help creating a positive business impact?\n",
        "Are there any insights that lead to negative growth? Justify with specific reason."
      ],
      "metadata": {
        "id": "rFu4xreNphqO"
      }
    },
    {
      "cell_type": "markdown",
      "source": [
        "Yes as we can seek out the difference from the given reviews and make specific recommendations to our hosts about what changes can be done by them in order to increase their reach to the customers. This can be one of our premium services that can widely help our hosts."
      ],
      "metadata": {
        "id": "ey_0qi68phqO"
      }
    },
    {
      "cell_type": "markdown",
      "source": [
        "#### Chart - 6"
      ],
      "metadata": {
        "id": "PIIx-8_IphqN"
      }
    },
    {
      "cell_type": "code",
      "source": [
        "# Chart - 6 visualization code\n",
        "# As now we are having the price ranges with the most listings let us check the neighbourhoods with the most listings.\n",
        "\n",
        "areas = []\n",
        "area_listing = []\n",
        "area_group = feature_df.groupby('neighbourhood')\n",
        "for area, data in area_group:\n",
        "    areas.append(area)\n",
        "    area_listing.append(data['listings'].sum())\n",
        "\n",
        "area_data_df = pd.DataFrame({\n",
        "    \"Area\": areas,\n",
        "    \"Values\": area_listing\n",
        "})\n",
        "\n",
        "area_data_df = area_data_df.sort_values(by='Values', ascending=False).reset_index(drop=True)\n",
        "area_data_df\n",
        "plt.figure(figsize=(17,5))\n",
        "# plt.plot(groups,listings, color='black', marker = \"o\", markerfacecolor = 'blue', markeredgecolor='blue',linestyle='-')\n",
        "colors = ['red', 'blue', 'green', 'orange', 'purple']\n",
        "sns.barplot(x=\"Area\", y='Values', data=area_data_df.head(10), hue=\"Area\", palette=colors, legend=False)\n",
        "plt.title('Top 10 prefered neighbourhood areas')\n",
        "plt.xlabel('Area')\n",
        "plt.ylabel('Listing Counts')\n",
        "for x, y in zip(area_data_df['Area'].head(10), area_data_df['Values'].head(10)):\n",
        "    plt.text(x, y, f'{y}', ha='center', va='bottom')"
      ],
      "metadata": {
        "id": "lqAIGUfyphqO"
      },
      "execution_count": null,
      "outputs": []
    },
    {
      "cell_type": "markdown",
      "source": [
        "##### 1. Why did you pick the specific chart?"
      ],
      "metadata": {
        "id": "t27r6nlMphqO"
      }
    },
    {
      "cell_type": "markdown",
      "source": [
        "The bar chart clearly reflects the differece between the areas and the gap between them as per the listing counts, we can see the top ten most listed neighbourhoods."
      ],
      "metadata": {
        "id": "iv6ro40sphqO"
      }
    },
    {
      "cell_type": "markdown",
      "source": [
        "##### 2. What is/are the insight(s) found from the chart?"
      ],
      "metadata": {
        "id": "r2jJGEOYphqO"
      }
    },
    {
      "cell_type": "markdown",
      "source": [
        "We can see that the most listed neighbourhood area is the 'Financial District' and it is also having a major gap between the other ones in the list, we can clearly see that the Financial District is the most prefered neighbourhood of our customers."
      ],
      "metadata": {
        "id": "Po6ZPi4hphqO"
      }
    },
    {
      "cell_type": "markdown",
      "source": [
        "##### 3. Will the gained insights help creating a positive business impact?\n",
        "Are there any insights that lead to negative growth? Justify with specific reason."
      ],
      "metadata": {
        "id": "b0JNsNcRphqO"
      }
    },
    {
      "cell_type": "markdown",
      "source": [
        "Yes, as this insight suggests the areas where there is a great scope for business and we can create more opportunities and also increase our Advertisements in a more targetted manner."
      ],
      "metadata": {
        "id": "xvSq8iUTphqO"
      }
    },
    {
      "cell_type": "markdown",
      "source": [
        "#### Chart - 7"
      ],
      "metadata": {
        "id": "OH-pJp9IphqM"
      }
    },
    {
      "cell_type": "code",
      "source": [
        "# Chart - 7 visualization code\n",
        "# Let us know the price range having the highest listings so as to get more specific idea on price preference.\n",
        "\n",
        "\n",
        "sorted_range # Sorted Price Range grouped\n",
        "range_group # List of all the price range groups\n",
        "range_listing_count = []\n",
        "\n",
        "for range, data in sorted_range:\n",
        "  range_listing_count.append(data['listings'].sum())\n",
        "\n",
        "\n",
        "range_list_df = pd.DataFrame({\n",
        "    'Range': range_group,\n",
        "    'Listing Count': range_listing_count\n",
        "})\n",
        "\n",
        "range_list_df = range_list_df.sort_values(by='Listing Count', ascending=False).reset_index(drop=True)\n",
        "\n",
        "# We will be taking on the top 5 prefered ranges.\n",
        "plt.pie(range_list_df['Listing Count'].head(), labels=range_list_df['Range'].head(), autopct=\"%1i%%\", explode=(0.1, 0.1, 0.1, 0, 0), shadow=True)\n",
        "plt.show()"
      ],
      "metadata": {
        "id": "kuRf4wtuphqN"
      },
      "execution_count": null,
      "outputs": []
    },
    {
      "cell_type": "markdown",
      "source": [
        "##### 1. Why did you pick the specific chart?"
      ],
      "metadata": {
        "id": "bbFf2-_FphqN"
      }
    },
    {
      "cell_type": "markdown",
      "source": [
        "Pie chart is an effective chat to clearly see the distrubutions and preferences, it becomes easier to notice the division of listngs by the price range."
      ],
      "metadata": {
        "id": "loh7H2nzphqN"
      }
    },
    {
      "cell_type": "markdown",
      "source": [
        "##### 2. What is/are the insight(s) found from the chart?"
      ],
      "metadata": {
        "id": "_ouA3fa0phqN"
      }
    },
    {
      "cell_type": "markdown",
      "source": [
        "As we can see form the chart:- The top 3 price ranges that are having the most listings are:-\n",
        "\n",
        "200-300: 33%\n",
        "100-200: 28%\n",
        "0-100: 22%\n",
        "\n"
      ],
      "metadata": {
        "id": "VECbqPI7phqN"
      }
    },
    {
      "cell_type": "markdown",
      "source": [
        "##### 3. Will the gained insights help creating a positive business impact?\n",
        "Are there any insights that lead to negative growth? Justify with specific reason."
      ],
      "metadata": {
        "id": "Seke61FWphqN"
      }
    },
    {
      "cell_type": "markdown",
      "source": [
        "We can see the number of listings are closely divided among these sectors and this can be a great was to keep a track of all the hostels that are within this price range and create recommendations according to their prefered neighbourhoods."
      ],
      "metadata": {
        "id": "DW4_bGpfphqN"
      }
    },
    {
      "cell_type": "markdown",
      "source": [
        "#### Chart - 8"
      ],
      "metadata": {
        "id": "bamQiAODYuh1"
      }
    },
    {
      "cell_type": "code",
      "source": [
        "# Chart - 8 visualization code\n",
        "# Let's visualize the relationship between listing price and the number of reviews received.\n",
        "# As we are having huge number of rows for this we will be taking only top 10 price ranges.\n",
        "# For the listing prices we will take price_range\n",
        "\n",
        "sorted_range = feature_df.sort_values(by='price_range', ascending=False)\n",
        "sorted_range = sorted_range.groupby('price_range')\n",
        "range_group = []\n",
        "review_count = []\n",
        "for range, data in sorted_range:\n",
        "  range_group.append(range)\n",
        "  review_count.append(data['number_of_reviews'].sum())\n",
        "\n",
        "range_df = pd.DataFrame({\n",
        "    'Range': range_group,\n",
        "    'Review Count': review_count\n",
        "})\n",
        "plt.figure(figsize=(15, 5))\n",
        "sns.scatterplot(x='Range', y='Review Count', data=range_df.head(10), color='blue', legend=False, marker='o')\n",
        "plt.plot(range_df['Range'].head(10), range_df['Review Count'].head(10), color='grey', linestyle='--', linewidth=2, label='Line Connecting Dots')\n",
        "plt.title(\"Price vs Reviews of top 10 most prefered price range\")\n",
        "for x, y in zip(range_df['Range'].head(10), range_df['Review Count'].head(10)):\n",
        "  plt.text(x, y, f'{y}', ha='center', va='bottom')"
      ],
      "metadata": {
        "id": "TIJwrbroYuh3"
      },
      "execution_count": null,
      "outputs": []
    },
    {
      "cell_type": "code",
      "source": [
        "# Let us also check for the least 10 prefered price ranges\n",
        "plt.figure(figsize=(15, 5))\n",
        "sns.scatterplot(x='Range', y='Review Count', data=range_df.tail(10), color='blue', legend=False, marker='o')\n",
        "plt.plot(range_df['Range'].tail(10), range_df['Review Count'].tail(10), color='grey', linestyle='--', linewidth=2, label='Line Connecting Dots')\n",
        "plt.title(\"Price vs Reviews of bottom least 10 prefered price range\")\n",
        "for x, y in zip(range_df['Range'].tail(10), range_df['Review Count'].tail(10)):\n",
        "  plt.text(x, y, f'{y}', ha='center', va='bottom')"
      ],
      "metadata": {
        "id": "Nzk22H4EBZcJ"
      },
      "execution_count": null,
      "outputs": []
    },
    {
      "cell_type": "markdown",
      "source": [
        "##### 1. Why did you pick the specific chart?"
      ],
      "metadata": {
        "id": "QHF8YVU7Yuh3"
      }
    },
    {
      "cell_type": "markdown",
      "source": [
        "As the difference between the no. of reviews in the price range is very huge, using a plot chart is quiet handy so that the pointers can be seen clearly with respect to their values and also their differences."
      ],
      "metadata": {
        "id": "dcxuIMRPYuh3"
      }
    },
    {
      "cell_type": "markdown",
      "source": [
        "##### 2. What is/are the insight(s) found from the chart?"
      ],
      "metadata": {
        "id": "GwzvFGzlYuh3"
      }
    },
    {
      "cell_type": "markdown",
      "source": [
        "As we can see the price range and the no. of reviews are having inverse relationship, it cleary states that the budget of our majortiy customer base lies between the range 0 - 200.\n",
        "\n",
        "We can also see that there are few preferences in the higher budget section as well where there is a competetion in the prices."
      ],
      "metadata": {
        "id": "uyqkiB8YYuh3"
      }
    },
    {
      "cell_type": "markdown",
      "source": [
        "##### 3. Will the gained insights help creating a positive business impact?\n",
        "Are there any insights that lead to negative growth? Justify with specific reason."
      ],
      "metadata": {
        "id": "qYpmQ266Yuh3"
      }
    },
    {
      "cell_type": "markdown",
      "source": [
        "This suggests that we will be able to make our pricing policies more targeted and more specific resulting in increasing customer base by providing them with the prices that are under their budget."
      ],
      "metadata": {
        "id": "_WtzZ_hCYuh4"
      }
    },
    {
      "cell_type": "markdown",
      "source": [
        "#### Chart - 9 - Correlation Heatmap"
      ],
      "metadata": {
        "id": "U2RJ9gkRphqQ"
      }
    },
    {
      "cell_type": "code",
      "source": [
        "# Chart - 9 visualization code\n",
        "feature_df.describe()\n",
        "\n",
        "# using corr() function to check the correlation between numeric columns.\n",
        "corr_df = feature_df[['price', 'minimum_nights', 'number_of_reviews',\n",
        "             'reviews_per_month', 'listings', 'availability_365']].corr()\n",
        "\n",
        "# Visualizing correlation using seaborn heatmap, using annotations.\n",
        "sns.heatmap(corr_df, annot=True)"
      ],
      "metadata": {
        "id": "GM7a4YP4phqQ"
      },
      "execution_count": null,
      "outputs": []
    },
    {
      "cell_type": "markdown",
      "source": [
        "##### 1. Why did you pick the specific chart?"
      ],
      "metadata": {
        "id": "1M8mcRywphqQ"
      }
    },
    {
      "cell_type": "markdown",
      "source": [
        "In order to check the correlation between numeric columns the heatmap is a really great option as it indicates the depth of each correlation with a different color, lighter to darker depending on the depth, not just that, it gives a proper one look visual about the data we want to check."
      ],
      "metadata": {
        "id": "8agQvks0phqQ"
      }
    },
    {
      "cell_type": "markdown",
      "source": [
        "##### 2. What is/are the insight(s) found from the chart?"
      ],
      "metadata": {
        "id": "tgIPom80phqQ"
      }
    },
    {
      "cell_type": "markdown",
      "source": [
        "This chart helped us to identify which pairs of variables have strong positive or negative correlations.\n",
        "\n",
        "It also helped us understand which variables are most closely related to each other.\n",
        "\n",
        "It even highlighted potential multicollinearity issues (high correlations between independent variables) if we plan to use regression analysis."
      ],
      "metadata": {
        "id": "Qp13pnNzphqQ"
      }
    },
    {
      "cell_type": "markdown",
      "source": [
        "##### 3. Will the gained insights help creating a positive business impact?\n",
        "Are there any insights that lead to negative growth? Justify with specific reason."
      ],
      "metadata": {
        "id": "JMzcOPDDphqR"
      }
    },
    {
      "cell_type": "markdown",
      "source": [
        "Yes as using these factors we will get good assistance while creating the pedictive models, as this informations is really useful and important as it reflects the current standing of our business and also provides the possible oppourtunities in different areas."
      ],
      "metadata": {
        "id": "R4Ka1PC2phqR"
      }
    },
    {
      "cell_type": "markdown",
      "source": [
        "#### Chart - 10 - Pair Plot"
      ],
      "metadata": {
        "id": "YJ55k-q6phqO"
      }
    },
    {
      "cell_type": "code",
      "source": [
        "# Chart - 10 visualization code\n",
        "# Let's create a pairplot to know the relationship between our few variables.\n",
        "\n",
        "pair_df = feature_df[['price', 'minimum_nights', 'number_of_reviews', 'reviews_per_month', 'listings', 'availability_365', 'price_range']]\n",
        "sns.pairplot(pair_df)"
      ],
      "metadata": {
        "id": "B2aS4O1ophqO"
      },
      "execution_count": null,
      "outputs": []
    },
    {
      "cell_type": "markdown",
      "source": [
        "##### 1. Why did you pick the specific chart?"
      ],
      "metadata": {
        "id": "gCFgpxoyphqP"
      }
    },
    {
      "cell_type": "markdown",
      "source": [
        "Here we can easily see the distribution of our numerical variables, it will also give us an overview of our dataset and the relationships between our variables."
      ],
      "metadata": {
        "id": "TVxDimi2phqP"
      }
    },
    {
      "cell_type": "markdown",
      "source": [
        "##### 2. What is/are the insight(s) found from the chart?"
      ],
      "metadata": {
        "id": "OVtJsKN_phqQ"
      }
    },
    {
      "cell_type": "markdown",
      "source": [
        "Yes, we can see that the utmost majority of our complete data set is within the price range of 0-2500."
      ],
      "metadata": {
        "id": "ngGi97qjphqQ"
      }
    },
    {
      "cell_type": "markdown",
      "source": [
        "##### 3. Will the gained insights help creating a positive business impact?\n",
        "Are there any insights that lead to negative growth? Justify with specific reason."
      ],
      "metadata": {
        "id": "lssrdh5qphqQ"
      }
    },
    {
      "cell_type": "markdown",
      "source": [
        "This insight can give us an overview of our dataset so that we can have an idea about the ranges of the numerical values in which we are required to work in, making it easier for us to get a direction of the area in which we need to work."
      ],
      "metadata": {
        "id": "tBpY5ekJphqQ"
      }
    },
    {
      "cell_type": "markdown",
      "source": [
        "## **5. Solution to Business Objective**"
      ],
      "metadata": {
        "id": "JcMwzZxoAimU"
      }
    },
    {
      "cell_type": "markdown",
      "source": [
        "#### What do you suggest the client to achieve Business Objective ?\n"
      ],
      "metadata": {
        "id": "8G2x9gOozGDZ"
      }
    },
    {
      "cell_type": "markdown",
      "source": [
        "To address our business objectives, we have thoroughly analyzed the dataset and drawn several key conclusions. Here are the actionable insights:\n",
        "\n",
        "1. **Pricing Strategy:** The most preferred price range is $0-300, which should guide our pricing strategy to align with customer expectations.\n",
        "\n",
        "2. **Room Type Preferences:** The \"Entire Home/Apt\" is the most favored room type, indicating a strong customer preference for privacy and safety. We should implement relevant policies to enhance security and privacy, which will help build trust and foster goodwill.\n",
        "\n",
        "3. **Preferred Area:** The Financial District in the Manhattan neighborhood is the most popular area. We should tailor our recommendations and pricing strategies to this area’s preferences.\n",
        "\n",
        "4. **Customer Feedback:** The Financial District also receives the highest number of positive reviews. Analyzing these reviews can highlight aspects that satisfy our customers, which we can then apply to other neighborhoods to potentially increase business in those areas.\n",
        "\n",
        "5. **Additional Data:** Including a column for customer occupation in the dataset could provide valuable insights. It would help segment customers by profession, allowing us to better understand the accommodation preferences of different occupational groups.\n",
        "\n",
        "6. **Budget Insights:** The dataset offers a clear view of the budget preferences of our target market, showing us the preferred pricing ratio.\n",
        "\n",
        "7. **Business Focus:** We can see where most of our business is concentrated and which customer group is most profitable. This information will help us improve services in key areas and explore opportunities to expand into less saturated sectors.\n",
        "\n",
        "By leveraging these insights, we can refine our strategies to better meet customer needs, enhance our offerings, and grow our business."
      ],
      "metadata": {
        "id": "pASKb0qOza21"
      }
    },
    {
      "cell_type": "markdown",
      "source": [
        "# **Conclusion**"
      ],
      "metadata": {
        "id": "gCX9965dhzqZ"
      }
    },
    {
      "cell_type": "markdown",
      "source": [
        " Our analysis of Airbnb data shows that about 90% of our business is focused on a specific area, whether it's related to location or pricing. This highlights a strong preference among our customers. To optimize our performance, we should use these insights to:\n",
        "\n",
        " Enhance Popular Areas: Focus on improving listings and services in the preferred locations or pricing categories.\n",
        "\n",
        " Expand Strategically: Apply successful strategies from these areas to other locations to boost their appeal.\n",
        " By aligning our offerings with customer preferences, we can better meet their needs and improve our overall business."
      ],
      "metadata": {
        "id": "Fjb1IsQkh3yE"
      }
    },
    {
      "cell_type": "markdown",
      "source": [
        "### ***Hurrah! You have successfully completed your EDA Capstone Project !!!***"
      ],
      "metadata": {
        "id": "gIfDvo9L0UH2"
      }
    }
  ]
}